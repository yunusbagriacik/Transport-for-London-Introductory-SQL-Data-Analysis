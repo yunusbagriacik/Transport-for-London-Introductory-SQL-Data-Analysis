{
 "cells": [
  {
   "cell_type": "markdown",
   "id": "b425fe18-bb51-4da3-9cfb-cf840a1db1e5",
   "metadata": {},
   "source": [
    "![tower bridge](london.jpg)\n",
    "\n",
    "London, or as the Romans called it \"Londonium\"! Home to [over 8.5 million residents](https://www.ons.gov.uk/peoplepopulationandcommunity/populationandmigration/populationestimates/bulletins/populationandhouseholdestimatesenglandandwales/census2021unroundeddata#population-and-household-estimates-england-and-wales-data) who speak over [300 languages](https://web.archive.org/web/20080924084621/http://www.cilt.org.uk/faqs/langspoken.htm). While the City of London is a little over one square mile (hence its nickname \"The Square Mile\"), Greater London has grown to encompass 32 boroughs spanning a total area of 606 square miles! \n",
    "\n",
    "![underground train leaving a platform](tube.jpg)\n",
    "\n",
    "Given the city's roads were originally designed for horse and cart, this area and population growth has required the development of an efficient public transport system! Since the year 2000, this has been through the local government body called **Transport for London**, or *TfL*, which is managed by the London Mayor's office. Their remit covers the London Underground, Overground, Docklands Light Railway (DLR), buses, trams, river services (clipper and [Emirates Airline cable car](https://en.wikipedia.org/wiki/London_cable_car)), roads, and even taxis.\n",
    "\n",
    "The Mayor of London's office make their data available to the public [here](https://data.london.gov.uk/dataset). In this project, you will work with a slightly modified version of a dataset containing information about public transport journey volume by transport type. "
   ]
  },
  {
   "cell_type": "code",
   "execution_count": 6,
   "id": "8d9fea80-b22f-4b79-aa93-1fb581d04b12",
   "metadata": {
    "chartConfig": {
     "bar": {
      "hasRoundedCorners": true,
      "stacked": false
     },
     "type": "bar",
     "version": "v1",
     "x": {
      "field": "JOURNEY_TYPE",
      "type": "string"
     },
     "y": {
      "field": "TOTAL_JOURNEYS_MILLIONS",
      "type": "number"
     }
    },
    "customType": "sql",
    "dataFrameVariableName": "most_popular_transport_types",
    "executionCancelledAt": null,
    "executionTime": 2458,
    "lastExecutedAt": 1713808547215,
    "lastExecutedByKernel": "5e2b2845-3002-4f0c-b67e-bdc2fb544398",
    "lastScheduledRunId": null,
    "lastSuccessfullyExecutedCode": "-- most_popular_transport_types\nSELECT JOURNEY_TYPE, ROUND(SUM(JOURNEYS_MILLIONS),2) AS TOTAL_JOURNEYS_MILLIONS\nFROM TFL.JOURNEYS AS most_popular_transport_types\nWHERE JOURNEY_TYPE IS NOT NULL \nGROUP BY JOURNEY_TYPE\nORDER BY TOTAL_JOURNEYS_MILLIONS DESC;\n",
    "outputsMetadata": {
     "0": {
      "height": 219,
      "type": "dataFrame"
     }
    },
    "sqlCellMode": "dataFrame",
    "sqlSource": {
     "integrationId": "e0c96696-ae0a-46fb-b6f9-1a43eb428ecb",
     "type": "integration"
    },
    "visualizeDataframe": false
   },
   "outputs": [
    {
     "@datacamp/metadata": {
      "executedQuery": "-- most_popular_transport_types\nSELECT JOURNEY_TYPE, ROUND(SUM(JOURNEYS_MILLIONS),2) AS TOTAL_JOURNEYS_MILLIONS\nFROM TFL.JOURNEYS AS most_popular_transport_types\nWHERE JOURNEY_TYPE IS NOT NULL \nGROUP BY JOURNEY_TYPE\nORDER BY TOTAL_JOURNEYS_MILLIONS DESC;",
      "executedQueryParameters": []
     },
     "data": {
      "application/com.datacamp.data-table.v2+json": {
       "table": {
        "data": {
         "JOURNEY_TYPE": [
          "Bus",
          "Underground & DLR",
          "Overground",
          "TfL Rail",
          "Tram",
          "Emirates Airline"
         ],
         "TOTAL_JOURNEYS_MILLIONS": [
          24905.19,
          15020.47,
          1666.85,
          411.31,
          314.69,
          14.58
         ],
         "index": [
          0,
          1,
          2,
          3,
          4,
          5
         ]
        },
        "schema": {
         "fields": [
          {
           "name": "index",
           "type": "integer"
          },
          {
           "name": "JOURNEY_TYPE",
           "type": "string"
          },
          {
           "name": "TOTAL_JOURNEYS_MILLIONS",
           "type": "number"
          }
         ],
         "pandas_version": "1.4.0",
         "primaryKey": [
          "index"
         ]
        }
       },
       "total_rows": 6,
       "truncation_type": null
      },
      "text/html": [
       "<div>\n",
       "<style scoped>\n",
       "    .dataframe tbody tr th:only-of-type {\n",
       "        vertical-align: middle;\n",
       "    }\n",
       "\n",
       "    .dataframe tbody tr th {\n",
       "        vertical-align: top;\n",
       "    }\n",
       "\n",
       "    .dataframe thead th {\n",
       "        text-align: right;\n",
       "    }\n",
       "</style>\n",
       "<table border=\"1\" class=\"dataframe\">\n",
       "  <thead>\n",
       "    <tr style=\"text-align: right;\">\n",
       "      <th></th>\n",
       "      <th>JOURNEY_TYPE</th>\n",
       "      <th>TOTAL_JOURNEYS_MILLIONS</th>\n",
       "    </tr>\n",
       "  </thead>\n",
       "  <tbody>\n",
       "    <tr>\n",
       "      <th>0</th>\n",
       "      <td>Bus</td>\n",
       "      <td>24905.19</td>\n",
       "    </tr>\n",
       "    <tr>\n",
       "      <th>1</th>\n",
       "      <td>Underground &amp; DLR</td>\n",
       "      <td>15020.47</td>\n",
       "    </tr>\n",
       "    <tr>\n",
       "      <th>2</th>\n",
       "      <td>Overground</td>\n",
       "      <td>1666.85</td>\n",
       "    </tr>\n",
       "    <tr>\n",
       "      <th>3</th>\n",
       "      <td>TfL Rail</td>\n",
       "      <td>411.31</td>\n",
       "    </tr>\n",
       "    <tr>\n",
       "      <th>4</th>\n",
       "      <td>Tram</td>\n",
       "      <td>314.69</td>\n",
       "    </tr>\n",
       "    <tr>\n",
       "      <th>5</th>\n",
       "      <td>Emirates Airline</td>\n",
       "      <td>14.58</td>\n",
       "    </tr>\n",
       "  </tbody>\n",
       "</table>\n",
       "</div>"
      ],
      "text/plain": [
       "        JOURNEY_TYPE  TOTAL_JOURNEYS_MILLIONS\n",
       "0                Bus                 24905.19\n",
       "1  Underground & DLR                 15020.47\n",
       "2         Overground                  1666.85\n",
       "3           TfL Rail                   411.31\n",
       "4               Tram                   314.69\n",
       "5   Emirates Airline                    14.58"
      ]
     },
     "execution_count": 6,
     "metadata": {},
     "output_type": "execute_result"
    }
   ],
   "source": [
    "-- most_popular_transport_types\n",
    "SELECT JOURNEY_TYPE, ROUND(SUM(JOURNEYS_MILLIONS),2) AS TOTAL_JOURNEYS_MILLIONS\n",
    "FROM TFL.JOURNEYS AS most_popular_transport_types\n",
    "WHERE JOURNEY_TYPE IS NOT NULL \n",
    "GROUP BY JOURNEY_TYPE\n",
    "ORDER BY TOTAL_JOURNEYS_MILLIONS DESC;\n"
   ]
  },
  {
   "cell_type": "code",
   "execution_count": 7,
   "id": "7e021cbb-35c0-4b65-8b63-db04bae2861c",
   "metadata": {
    "customType": "sql",
    "dataFrameVariableName": "emirates_airline_popularity",
    "executionCancelledAt": null,
    "executionTime": 2761,
    "lastExecutedAt": 1713808549977,
    "lastExecutedByKernel": "5e2b2845-3002-4f0c-b67e-bdc2fb544398",
    "lastScheduledRunId": null,
    "lastSuccessfullyExecutedCode": "SELECT MONTH, YEAR, ROUND(JOURNEYS_MILLIONS, 2) AS ROUNDED_JOURNEYS_MILLIONS\nFROM TFL.JOURNEYS AS emirates_airline_popularity\nWHERE MONTH IS NOT NULL\nAND YEAR IS NOT NULL\nAND JOURNEYS_MILLIONS IS NOT NULL \nAND JOURNEY_TYPE IS NOT NULL AND JOURNEY_TYPE='Emirates Airline'\nORDER BY ROUNDED_JOURNEYS_MILLIONS DESC \nLIMIT 5;\n",
    "outputsMetadata": {
     "0": {
      "height": 194,
      "type": "dataFrame"
     }
    },
    "sqlCellMode": "dataFrame",
    "sqlSource": {
     "integrationId": "e0c96696-ae0a-46fb-b6f9-1a43eb428ecb",
     "type": "integration"
    }
   },
   "outputs": [
    {
     "@datacamp/metadata": {
      "executedQuery": "SELECT MONTH, YEAR, ROUND(JOURNEYS_MILLIONS, 2) AS ROUNDED_JOURNEYS_MILLIONS\nFROM TFL.JOURNEYS AS emirates_airline_popularity\nWHERE MONTH IS NOT NULL\nAND YEAR IS NOT NULL\nAND JOURNEYS_MILLIONS IS NOT NULL \nAND JOURNEY_TYPE IS NOT NULL AND JOURNEY_TYPE='Emirates Airline'\nORDER BY ROUNDED_JOURNEYS_MILLIONS DESC \nLIMIT 5;",
      "executedQueryParameters": []
     },
     "data": {
      "application/com.datacamp.data-table.v2+json": {
       "table": {
        "data": {
         "MONTH": [
          5,
          6,
          4,
          5,
          5
         ],
         "ROUNDED_JOURNEYS_MILLIONS": [
          0.53,
          0.38,
          0.24,
          0.19,
          0.19
         ],
         "YEAR": [
          2012,
          2012,
          2012,
          2013,
          2015
         ],
         "index": [
          0,
          1,
          2,
          3,
          4
         ]
        },
        "schema": {
         "fields": [
          {
           "name": "index",
           "type": "integer"
          },
          {
           "name": "MONTH",
           "type": "integer"
          },
          {
           "name": "YEAR",
           "type": "integer"
          },
          {
           "name": "ROUNDED_JOURNEYS_MILLIONS",
           "type": "number"
          }
         ],
         "pandas_version": "1.4.0",
         "primaryKey": [
          "index"
         ]
        }
       },
       "total_rows": 5,
       "truncation_type": null
      },
      "text/html": [
       "<div>\n",
       "<style scoped>\n",
       "    .dataframe tbody tr th:only-of-type {\n",
       "        vertical-align: middle;\n",
       "    }\n",
       "\n",
       "    .dataframe tbody tr th {\n",
       "        vertical-align: top;\n",
       "    }\n",
       "\n",
       "    .dataframe thead th {\n",
       "        text-align: right;\n",
       "    }\n",
       "</style>\n",
       "<table border=\"1\" class=\"dataframe\">\n",
       "  <thead>\n",
       "    <tr style=\"text-align: right;\">\n",
       "      <th></th>\n",
       "      <th>MONTH</th>\n",
       "      <th>YEAR</th>\n",
       "      <th>ROUNDED_JOURNEYS_MILLIONS</th>\n",
       "    </tr>\n",
       "  </thead>\n",
       "  <tbody>\n",
       "    <tr>\n",
       "      <th>0</th>\n",
       "      <td>5</td>\n",
       "      <td>2012</td>\n",
       "      <td>0.53</td>\n",
       "    </tr>\n",
       "    <tr>\n",
       "      <th>1</th>\n",
       "      <td>6</td>\n",
       "      <td>2012</td>\n",
       "      <td>0.38</td>\n",
       "    </tr>\n",
       "    <tr>\n",
       "      <th>2</th>\n",
       "      <td>4</td>\n",
       "      <td>2012</td>\n",
       "      <td>0.24</td>\n",
       "    </tr>\n",
       "    <tr>\n",
       "      <th>3</th>\n",
       "      <td>5</td>\n",
       "      <td>2013</td>\n",
       "      <td>0.19</td>\n",
       "    </tr>\n",
       "    <tr>\n",
       "      <th>4</th>\n",
       "      <td>5</td>\n",
       "      <td>2015</td>\n",
       "      <td>0.19</td>\n",
       "    </tr>\n",
       "  </tbody>\n",
       "</table>\n",
       "</div>"
      ],
      "text/plain": [
       "   MONTH  YEAR  ROUNDED_JOURNEYS_MILLIONS\n",
       "0      5  2012                       0.53\n",
       "1      6  2012                       0.38\n",
       "2      4  2012                       0.24\n",
       "3      5  2013                       0.19\n",
       "4      5  2015                       0.19"
      ]
     },
     "execution_count": 7,
     "metadata": {},
     "output_type": "execute_result"
    }
   ],
   "source": [
    "SELECT MONTH, YEAR, ROUND(JOURNEYS_MILLIONS, 2) AS ROUNDED_JOURNEYS_MILLIONS\n",
    "FROM TFL.JOURNEYS AS emirates_airline_popularity\n",
    "WHERE MONTH IS NOT NULL\n",
    "AND YEAR IS NOT NULL\n",
    "AND JOURNEYS_MILLIONS IS NOT NULL \n",
    "AND JOURNEY_TYPE IS NOT NULL AND JOURNEY_TYPE='Emirates Airline'\n",
    "ORDER BY ROUNDED_JOURNEYS_MILLIONS DESC \n",
    "LIMIT 5;\n"
   ]
  },
  {
   "cell_type": "code",
   "execution_count": 8,
   "id": "ed4c5893-aa2e-469d-99e9-8eb2fc5ccc43",
   "metadata": {
    "chartConfig": {
     "bar": {
      "hasRoundedCorners": true,
      "stacked": false
     },
     "type": "bar",
     "version": "v1",
     "x": {
      "field": "index",
      "type": "integer"
     }
    },
    "customType": "sql",
    "dataFrameVariableName": "least_popular_years_tube",
    "executionCancelledAt": null,
    "executionTime": 2538,
    "lastExecutedAt": 1713808552515,
    "lastExecutedByKernel": "5e2b2845-3002-4f0c-b67e-bdc2fb544398",
    "lastScheduledRunId": null,
    "lastSuccessfullyExecutedCode": "SELECT JOURNEY_TYPE, YEAR, ROUND(SUM(JOURNEYS_MILLIONS), 2) AS TOTAL_JOURNEYS_MILLIONS\nFROM TFL.JOURNEYS AS least_popular_years_tube\nWHERE JOURNEY_TYPE = 'Underground & DLR'\nGROUP BY JOURNEY_TYPE, YEAR\nORDER BY TOTAL_JOURNEYS_MILLIONS ASC\nLIMIT 5;\n",
    "outputsMetadata": {
     "0": {
      "height": 194,
      "type": "dataFrame"
     }
    },
    "sqlCellMode": "dataFrame",
    "sqlSource": {
     "integrationId": "e0c96696-ae0a-46fb-b6f9-1a43eb428ecb",
     "type": "integration"
    },
    "visualizeDataframe": false
   },
   "outputs": [
    {
     "@datacamp/metadata": {
      "executedQuery": "SELECT JOURNEY_TYPE, YEAR, ROUND(SUM(JOURNEYS_MILLIONS), 2) AS TOTAL_JOURNEYS_MILLIONS\nFROM TFL.JOURNEYS AS least_popular_years_tube\nWHERE JOURNEY_TYPE = 'Underground & DLR'\nGROUP BY JOURNEY_TYPE, YEAR\nORDER BY TOTAL_JOURNEYS_MILLIONS ASC\nLIMIT 5;",
      "executedQueryParameters": []
     },
     "data": {
      "application/com.datacamp.data-table.v2+json": {
       "table": {
        "data": {
         "JOURNEY_TYPE": [
          "Underground & DLR",
          "Underground & DLR",
          "Underground & DLR",
          "Underground & DLR",
          "Underground & DLR"
         ],
         "TOTAL_JOURNEYS_MILLIONS": [
          310.18,
          748.45,
          1064.86,
          1096.15,
          1156.65
         ],
         "YEAR": [
          2020,
          2021,
          2022,
          2010,
          2011
         ],
         "index": [
          0,
          1,
          2,
          3,
          4
         ]
        },
        "schema": {
         "fields": [
          {
           "name": "index",
           "type": "integer"
          },
          {
           "name": "JOURNEY_TYPE",
           "type": "string"
          },
          {
           "name": "YEAR",
           "type": "integer"
          },
          {
           "name": "TOTAL_JOURNEYS_MILLIONS",
           "type": "number"
          }
         ],
         "pandas_version": "1.4.0",
         "primaryKey": [
          "index"
         ]
        }
       },
       "total_rows": 5,
       "truncation_type": null
      },
      "text/html": [
       "<div>\n",
       "<style scoped>\n",
       "    .dataframe tbody tr th:only-of-type {\n",
       "        vertical-align: middle;\n",
       "    }\n",
       "\n",
       "    .dataframe tbody tr th {\n",
       "        vertical-align: top;\n",
       "    }\n",
       "\n",
       "    .dataframe thead th {\n",
       "        text-align: right;\n",
       "    }\n",
       "</style>\n",
       "<table border=\"1\" class=\"dataframe\">\n",
       "  <thead>\n",
       "    <tr style=\"text-align: right;\">\n",
       "      <th></th>\n",
       "      <th>JOURNEY_TYPE</th>\n",
       "      <th>YEAR</th>\n",
       "      <th>TOTAL_JOURNEYS_MILLIONS</th>\n",
       "    </tr>\n",
       "  </thead>\n",
       "  <tbody>\n",
       "    <tr>\n",
       "      <th>0</th>\n",
       "      <td>Underground &amp; DLR</td>\n",
       "      <td>2020</td>\n",
       "      <td>310.18</td>\n",
       "    </tr>\n",
       "    <tr>\n",
       "      <th>1</th>\n",
       "      <td>Underground &amp; DLR</td>\n",
       "      <td>2021</td>\n",
       "      <td>748.45</td>\n",
       "    </tr>\n",
       "    <tr>\n",
       "      <th>2</th>\n",
       "      <td>Underground &amp; DLR</td>\n",
       "      <td>2022</td>\n",
       "      <td>1064.86</td>\n",
       "    </tr>\n",
       "    <tr>\n",
       "      <th>3</th>\n",
       "      <td>Underground &amp; DLR</td>\n",
       "      <td>2010</td>\n",
       "      <td>1096.15</td>\n",
       "    </tr>\n",
       "    <tr>\n",
       "      <th>4</th>\n",
       "      <td>Underground &amp; DLR</td>\n",
       "      <td>2011</td>\n",
       "      <td>1156.65</td>\n",
       "    </tr>\n",
       "  </tbody>\n",
       "</table>\n",
       "</div>"
      ],
      "text/plain": [
       "        JOURNEY_TYPE  YEAR  TOTAL_JOURNEYS_MILLIONS\n",
       "0  Underground & DLR  2020                   310.18\n",
       "1  Underground & DLR  2021                   748.45\n",
       "2  Underground & DLR  2022                  1064.86\n",
       "3  Underground & DLR  2010                  1096.15\n",
       "4  Underground & DLR  2011                  1156.65"
      ]
     },
     "execution_count": 8,
     "metadata": {},
     "output_type": "execute_result"
    }
   ],
   "source": [
    "SELECT JOURNEY_TYPE, YEAR, ROUND(SUM(JOURNEYS_MILLIONS), 2) AS TOTAL_JOURNEYS_MILLIONS\n",
    "FROM TFL.JOURNEYS AS least_popular_years_tube\n",
    "WHERE JOURNEY_TYPE = 'Underground & DLR'\n",
    "GROUP BY JOURNEY_TYPE, YEAR\n",
    "ORDER BY TOTAL_JOURNEYS_MILLIONS ASC\n",
    "LIMIT 5;\n"
   ]
  }
 ],
 "metadata": {
  "colab": {
   "name": "Welcome to DataCamp Workspaces.ipynb",
   "provenance": []
  },
  "kernelspec": {
   "display_name": "Python 3 (ipykernel)",
   "language": "python",
   "name": "python3"
  },
  "language_info": {
   "codemirror_mode": {
    "name": "ipython",
    "version": 3
   },
   "file_extension": ".py",
   "mimetype": "text/x-python",
   "name": "python",
   "nbconvert_exporter": "python",
   "pygments_lexer": "ipython3",
   "version": "3.11.7"
  }
 },
 "nbformat": 4,
 "nbformat_minor": 5
}
